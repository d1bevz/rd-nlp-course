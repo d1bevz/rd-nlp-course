{
 "cells": [
  {
   "cell_type": "code",
   "execution_count": 1,
   "metadata": {},
   "outputs": [],
   "source": [
    "import random\n",
    "import numpy\n",
    "\n",
    "def set_seed(seed: int, n_gpu: int):\n",
    "    random.seed(seed)\n",
    "    numpy.random.seed(seed)\n",
    "    torch.manual_seed(seed)\n",
    "    if n_gpu > 0:\n",
    "        torch.cuda.manual_seed_all(seed)"
   ]
  },
  {
   "cell_type": "code",
   "execution_count": 2,
   "metadata": {},
   "outputs": [],
   "source": [
    "reviews_train = []\n",
    "for line in open(\"../data/imdb/full_train.txt\", \"r\"):\n",
    "    reviews_train.append(line.strip())\n",
    "    \n",
    "reviews_test = []\n",
    "for line in open(\"../data/imdb/full_test.txt\", \"r\"):\n",
    "    reviews_test.append(line.strip())"
   ]
  },
  {
   "cell_type": "code",
   "execution_count": 3,
   "metadata": {},
   "outputs": [],
   "source": [
    "train_target = [1 if i < 12500 else 0 for i in range(25000)]\n",
    "test_target = [1 if i < 12500 else 0 for i in range(25000)]"
   ]
  },
  {
   "cell_type": "code",
   "execution_count": 4,
   "metadata": {},
   "outputs": [],
   "source": [
    "from itertools import chain\n",
    "\n",
    "train_tokens = list(chain(*[[token for token in sample.lower().split()] for sample in reviews_train]))"
   ]
  },
  {
   "cell_type": "code",
   "execution_count": 5,
   "metadata": {},
   "outputs": [],
   "source": [
    "from collections import Counter\n",
    "\n",
    "train_vocabulary = Counter(train_tokens)"
   ]
  },
  {
   "cell_type": "code",
   "execution_count": 6,
   "metadata": {},
   "outputs": [],
   "source": [
    "UNKNOWN_TOKEN = \"unknown\"\n",
    "PAD_TOKEN = \"PAD\"\n",
    "\n",
    "index_to_token = [UNKNOWN_TOKEN] + [PAD_TOKEN] + list(train_vocabulary.keys())\n",
    "token_to_index = {token: index + 2 for index, token in enumerate(train_vocabulary.keys())}\n",
    "token_to_index[UNKNOWN_TOKEN] = 0\n",
    "token_to_index[PAD_TOKEN] = 1"
   ]
  },
  {
   "cell_type": "code",
   "execution_count": 7,
   "metadata": {},
   "outputs": [],
   "source": [
    "EMBEDDING_DIM = 100\n",
    "BATCH_SIZE = 50\n",
    "MAX_INPUT_LENGTH = 100"
   ]
  },
  {
   "cell_type": "code",
   "execution_count": 8,
   "metadata": {},
   "outputs": [],
   "source": [
    "def generate_batch(input_data, max_length = MAX_INPUT_LENGTH):\n",
    "    \n",
    "    texts = torch.tensor([padding(sample[\"text\"], max_length) for sample in input_data], dtype=torch.long)\n",
    "    labels = torch.tensor([sample[\"label\"] for sample in input_data], dtype=torch.long)\n",
    "    return texts, torch.tensor([]), labels\n",
    "\n",
    "def padding(text_tokens, max_length, padding_token=1):\n",
    "    if len(text_tokens) >= max_length:\n",
    "        return text_tokens[:max_length]\n",
    "    return text_tokens + [padding_token]*(max_length - len(text_tokens))"
   ]
  },
  {
   "cell_type": "code",
   "execution_count": 9,
   "metadata": {},
   "outputs": [],
   "source": [
    "prepared_data = []\n",
    "\n",
    "for label, text in zip(train_target, reviews_train):\n",
    "    text_tokens = [token_to_index[token.lower()] for token in text.split()]\n",
    "    prepared_data.append({\"label\": label, \"text\": text_tokens, \"sequence_length\": len(text_tokens)})\n",
    "    \n",
    "sorted_prepared_data = sorted(prepared_data, key=lambda x: x[\"sequence_length\"], reverse=True)"
   ]
  },
  {
   "cell_type": "code",
   "execution_count": 10,
   "metadata": {},
   "outputs": [],
   "source": [
    "from torch.utils.data import DataLoader\n",
    "\n",
    "def train(input_data, collate_fn, shuffle=True):\n",
    "\n",
    "    # Train the model\n",
    "    train_loss = 0\n",
    "    train_acc = 0\n",
    "    data = DataLoader(input_data, batch_size=BATCH_SIZE, shuffle=shuffle, collate_fn=collate_fn)\n",
    "    for i, (text, sequence_length, label) in enumerate(data): # 3\n",
    "        optimizer.zero_grad()\n",
    "        text, sequence_length, label = text.to(device), sequence_length.to(device), label.to(device)\n",
    "        output = model(text, sequence_length)\n",
    "        loss = criterion(output, label)\n",
    "        train_loss += loss.item()\n",
    "        loss.backward()\n",
    "        optimizer.step()\n",
    "        train_acc += (output.argmax(1) == label).sum().item()\n",
    "\n",
    "    return train_loss / len(input_data), train_acc / len(input_data)\n",
    "\n",
    "def test(input_data, collate_fn):\n",
    "    test_loss = 0\n",
    "    acc = 0\n",
    "    data = DataLoader(input_data, batch_size=BATCH_SIZE, collate_fn=collate_fn)\n",
    "    for i, (text, sequence_length, label) in enumerate(data):\n",
    "        text, sequence_length, label = text.to(device),  sequence_length.to(device), label.to(device)\n",
    "        with torch.no_grad():\n",
    "            output = model(text, sequence_length)\n",
    "            loss = criterion(output, label)\n",
    "            test_loss += loss.item()\n",
    "            acc += (output.argmax(1) == label).sum().item()\n",
    "\n",
    "    return test_loss / len(input_data), acc / len(input_data)"
   ]
  },
  {
   "cell_type": "markdown",
   "metadata": {},
   "source": [
    "## Simple RNN"
   ]
  },
  {
   "cell_type": "code",
   "execution_count": 11,
   "metadata": {},
   "outputs": [],
   "source": [
    "RNN_HIDDEN_SIZE = 100\n",
    "IS_BIDIRECTIONAL = False\n",
    "NUM_LAYERS = 1"
   ]
  },
  {
   "cell_type": "code",
   "execution_count": 12,
   "metadata": {},
   "outputs": [],
   "source": [
    "import torch\n",
    "import torch.nn as nn\n",
    "\n",
    "class SentimentClassificationSimpleRNNModel(nn.Module):\n",
    "    def __init__(self, vocab_size, embed_dim, num_class, hidden_size, is_bidirectional, num_layers):\n",
    "        super().__init__()\n",
    "        self.embedding = nn.Embedding(vocab_size, embed_dim)\n",
    "        self.rnn = nn.RNN(input_size=embed_dim, hidden_size=hidden_size, num_layers=num_layers, bidirectional=is_bidirectional)\n",
    "        self.fc = nn.Linear(hidden_size*(1 + int(is_bidirectional)), num_class)\n",
    "        self.init_weights()\n",
    "\n",
    "    def init_weights(self):\n",
    "        init_range = 0.5\n",
    "        self.embedding.weight.data.uniform_(-init_range, init_range)\n",
    "        self.fc.weight.data.uniform_(-init_range, init_range)\n",
    "        self.fc.bias.data.zero_()\n",
    "\n",
    "    def forward(self, text, sequence_length=None):\n",
    "        embedded = self.embedding(text)\n",
    "        output, _ = self.rnn(embedded)\n",
    "        pooled_output, _ = output.max(dim=1)\n",
    "        return self.fc(pooled_output)"
   ]
  },
  {
   "cell_type": "code",
   "execution_count": 13,
   "metadata": {},
   "outputs": [],
   "source": [
    "set_seed(42, 1)"
   ]
  },
  {
   "cell_type": "code",
   "execution_count": 14,
   "metadata": {},
   "outputs": [],
   "source": [
    "device = torch.device(\"cuda:0\" if torch.cuda.is_available() else \"cpu\")\n",
    "model = SentimentClassificationSimpleRNNModel(\n",
    "    vocab_size=len(index_to_token), \n",
    "    embed_dim=EMBEDDING_DIM, \n",
    "    num_class=len(set(train_target)), \n",
    "    hidden_size=RNN_HIDDEN_SIZE,\n",
    "    is_bidirectional=IS_BIDIRECTIONAL,\n",
    "    num_layers=NUM_LAYERS\n",
    ").to(device)"
   ]
  },
  {
   "cell_type": "code",
   "execution_count": 15,
   "metadata": {},
   "outputs": [
    {
     "name": "stdout",
     "output_type": "stream",
     "text": [
      "Epoch: 1  | time in 0 minutes, 2 seconds\n",
      "\tLoss: 0.0130(train)\t|\tAcc: 61.7%(train)\n",
      "\tLoss: 0.0121(valid)\t|\tAcc: 65.6%(valid)\n",
      "Epoch: 2  | time in 0 minutes, 2 seconds\n",
      "\tLoss: 0.0113(train)\t|\tAcc: 70.0%(train)\n",
      "\tLoss: 0.0116(valid)\t|\tAcc: 69.2%(valid)\n",
      "Epoch: 3  | time in 0 minutes, 3 seconds\n",
      "\tLoss: 0.0105(train)\t|\tAcc: 73.5%(train)\n",
      "\tLoss: 0.0101(valid)\t|\tAcc: 74.2%(valid)\n",
      "Epoch: 4  | time in 0 minutes, 3 seconds\n",
      "\tLoss: 0.0099(train)\t|\tAcc: 75.4%(train)\n",
      "\tLoss: 0.0099(valid)\t|\tAcc: 75.3%(valid)\n",
      "Epoch: 5  | time in 0 minutes, 3 seconds\n",
      "\tLoss: 0.0095(train)\t|\tAcc: 77.0%(train)\n",
      "\tLoss: 0.0108(valid)\t|\tAcc: 72.8%(valid)\n",
      "Epoch: 6  | time in 0 minutes, 3 seconds\n",
      "\tLoss: 0.0091(train)\t|\tAcc: 78.3%(train)\n",
      "\tLoss: 0.0096(valid)\t|\tAcc: 77.2%(valid)\n",
      "Epoch: 7  | time in 0 minutes, 3 seconds\n",
      "\tLoss: 0.0088(train)\t|\tAcc: 79.2%(train)\n",
      "\tLoss: 0.0096(valid)\t|\tAcc: 77.8%(valid)\n",
      "Epoch: 8  | time in 0 minutes, 3 seconds\n",
      "\tLoss: 0.0085(train)\t|\tAcc: 80.0%(train)\n",
      "\tLoss: 0.0099(valid)\t|\tAcc: 77.4%(valid)\n",
      "Epoch: 9  | time in 0 minutes, 3 seconds\n",
      "\tLoss: 0.0082(train)\t|\tAcc: 81.2%(train)\n",
      "\tLoss: 0.0094(valid)\t|\tAcc: 77.6%(valid)\n",
      "Epoch: 10  | time in 0 minutes, 3 seconds\n",
      "\tLoss: 0.0079(train)\t|\tAcc: 82.3%(train)\n",
      "\tLoss: 0.0098(valid)\t|\tAcc: 78.2%(valid)\n"
     ]
    }
   ],
   "source": [
    "import time\n",
    "from torch.utils.data.dataset import random_split\n",
    "\n",
    "N_EPOCHS = 10\n",
    "min_valid_loss = float('inf')\n",
    "\n",
    "criterion = torch.nn.CrossEntropyLoss().to(device)\n",
    "optimizer = torch.optim.SGD(model.parameters(), lr=0.1)\n",
    "\n",
    "train_len = int(len(prepared_data) * 0.95)\n",
    "train_data, validation_data = \\\n",
    "    random_split(prepared_data, [train_len, len(prepared_data) - train_len])\n",
    "\n",
    "for epoch in range(N_EPOCHS):\n",
    "\n",
    "    start_time = time.time()\n",
    "    train_loss, train_acc = train(train_data, generate_batch)\n",
    "    valid_loss, valid_acc = test(validation_data, generate_batch)\n",
    "\n",
    "    secs = int(time.time() - start_time)\n",
    "    mins = secs / 60\n",
    "    secs = secs % 60\n",
    "\n",
    "    print('Epoch: %d' %(epoch + 1), \" | time in %d minutes, %d seconds\" %(mins, secs))\n",
    "    print(f'\\tLoss: {train_loss:.4f}(train)\\t|\\tAcc: {train_acc * 100:.1f}%(train)')\n",
    "    print(f'\\tLoss: {valid_loss:.4f}(valid)\\t|\\tAcc: {valid_acc * 100:.1f}%(valid)')"
   ]
  },
  {
   "cell_type": "markdown",
   "metadata": {},
   "source": [
    "## Masked Padding\n",
    "\n",
    "У нас есть два предложения: \"I like watching movies\" and \"I don't like watching movies\". После токенизации мы получим: `[\"I\", \"like\", \"watching\", \"movies\"]` (4 токена) и `[\"I\", \"don't\", \"like\", \"watching\", \"movies\"]` (5 токенов).\n",
    "\n",
    "Чтобы сформировать батч, оба предложения должны иметь одинаковое количество токенов, поэтому мы добавляем к первому предложению «padding токен» и получаем\n",
    "`[\"I\", \"like\", \"watching\", \"movies\", \"PAD\"]` (5 токенов) и `[\"I\", \"don't\", \"like\", \"watching\", \"movies\"]` (5 токенов)\n",
    "\n",
    "Теперь наша модель будет знать, что мы использовали padding для первого предложения.\n",
    "Должна ли наша модель знать об этом?\n",
    "\n",
    "Мы можем маскировать токены, и наша модель их проигнорирует. Использовать `torch.nn.utils.rnn.pack_padded_sequence`"
   ]
  },
  {
   "cell_type": "code",
   "execution_count": 16,
   "metadata": {},
   "outputs": [],
   "source": [
    "import torch\n",
    "import torch.nn as nn\n",
    "from torch.nn.utils.rnn import pack_padded_sequence, pad_packed_sequence\n",
    "\n",
    "class SentimentClassificationMaskedRNNModel(nn.Module):\n",
    "    def __init__(self, vocab_size, embed_dim, num_class, hidden_size, is_bidirectional, num_layers):\n",
    "        super().__init__()\n",
    "        self.embedding = nn.Embedding(vocab_size, embed_dim)\n",
    "        self.rnn = nn.RNN(input_size=embed_dim, hidden_size=hidden_size, num_layers=num_layers, bidirectional=is_bidirectional)\n",
    "        self.fc = nn.Linear(hidden_size*(1 + int(is_bidirectional)), num_class)\n",
    "        self.init_weights()\n",
    "\n",
    "    def init_weights(self):\n",
    "        init_range = 0.5\n",
    "        self.embedding.weight.data.uniform_(-init_range, init_range)\n",
    "        self.fc.weight.data.uniform_(-init_range, init_range)\n",
    "        self.fc.bias.data.zero_()\n",
    "\n",
    "    def forward(self, text, sequence_length):\n",
    "        embedded = self.embedding(text)\n",
    "        packed_output, _ = self.rnn(pack_padded_sequence(embedded, sequence_length, batch_first=True))\n",
    "        output, _ = pad_packed_sequence(packed_output)\n",
    "        pooled_output, _ = output.max(dim=0)\n",
    "        return self.fc(pooled_output)"
   ]
  },
  {
   "cell_type": "code",
   "execution_count": 17,
   "metadata": {},
   "outputs": [],
   "source": [
    "from typing import Dict\n",
    "\n",
    "def padding(text_tokens, max_length, padding_token=1):\n",
    "    if len(text_tokens) >= max_length:\n",
    "        return text_tokens[:max_length]\n",
    "    return text_tokens + [padding_token]*(max_length - len(text_tokens))\n",
    "\n",
    "def generate_batch_with_masking(input_data: Dict[str, str], max_length = MAX_INPUT_LENGTH):\n",
    "    # return (text, sequence_length), labels\n",
    "    max_batch_sequence_length = max(sequence[\"sequence_length\"] for sequence in input_data)\n",
    "    prepared_data = []\n",
    "    sequence_length = []\n",
    "    for sample in input_data:\n",
    "        prepared_data.append(padding(sample[\"text\"], max_length))\n",
    "        sequence_length.append(min(max_batch_sequence_length, max_length))\n",
    "        \n",
    "    prepared_data = torch.tensor(prepared_data, dtype=torch.long)\n",
    "    sequence_length = torch.tensor(sequence_length, dtype=torch.long)\n",
    "    sequence_length, perm_idx = sequence_length.sort(0, descending=True)\n",
    "    prepared_data = prepared_data[perm_idx]\n",
    "    \n",
    "    labels = torch.tensor([sample[\"label\"] for sample in input_data], dtype=torch.long)[perm_idx]\n",
    "    return prepared_data, sequence_length, labels"
   ]
  },
  {
   "cell_type": "code",
   "execution_count": 18,
   "metadata": {},
   "outputs": [
    {
     "data": {
      "text/plain": [
       "(tensor([[1, 2, 3, 4, 1, 1, 1, 1, 1, 1, 1, 1, 1, 1, 1, 1, 1, 1, 1, 1, 1, 1, 1, 1,\n",
       "          1, 1, 1, 1, 1, 1, 1, 1, 1, 1, 1, 1, 1, 1, 1, 1, 1, 1, 1, 1, 1, 1, 1, 1,\n",
       "          1, 1, 1, 1, 1, 1, 1, 1, 1, 1, 1, 1, 1, 1, 1, 1, 1, 1, 1, 1, 1, 1, 1, 1,\n",
       "          1, 1, 1, 1, 1, 1, 1, 1, 1, 1, 1, 1, 1, 1, 1, 1, 1, 1, 1, 1, 1, 1, 1, 1,\n",
       "          1, 1, 1, 1],\n",
       "         [1, 5, 2, 3, 4, 1, 1, 1, 1, 1, 1, 1, 1, 1, 1, 1, 1, 1, 1, 1, 1, 1, 1, 1,\n",
       "          1, 1, 1, 1, 1, 1, 1, 1, 1, 1, 1, 1, 1, 1, 1, 1, 1, 1, 1, 1, 1, 1, 1, 1,\n",
       "          1, 1, 1, 1, 1, 1, 1, 1, 1, 1, 1, 1, 1, 1, 1, 1, 1, 1, 1, 1, 1, 1, 1, 1,\n",
       "          1, 1, 1, 1, 1, 1, 1, 1, 1, 1, 1, 1, 1, 1, 1, 1, 1, 1, 1, 1, 1, 1, 1, 1,\n",
       "          1, 1, 1, 1]]),\n",
       " tensor([5, 5]),\n",
       " tensor([1, 0]))"
      ]
     },
     "execution_count": 18,
     "metadata": {},
     "output_type": "execute_result"
    }
   ],
   "source": [
    "generate_batch_with_masking(\n",
    "    [\n",
    "        {\"text\": [1, 2, 3, 4], \"label\": 1, \"sequence_length\": 4}, \n",
    "        {\"text\": [1, 5, 2, 3, 4], \"label\": 0, \"sequence_length\": 5}, \n",
    "    ]\n",
    ")"
   ]
  },
  {
   "cell_type": "code",
   "execution_count": 19,
   "metadata": {},
   "outputs": [],
   "source": [
    "set_seed(42, 1)"
   ]
  },
  {
   "cell_type": "code",
   "execution_count": 20,
   "metadata": {},
   "outputs": [],
   "source": [
    "device = torch.device(\"cuda:0\" if torch.cuda.is_available() else \"cpu\")\n",
    "model = SentimentClassificationMaskedRNNModel(\n",
    "    vocab_size=len(index_to_token), \n",
    "    embed_dim=EMBEDDING_DIM, \n",
    "    num_class=len(set(train_target)), \n",
    "    hidden_size=RNN_HIDDEN_SIZE,\n",
    "    is_bidirectional=IS_BIDIRECTIONAL,\n",
    "    num_layers=NUM_LAYERS\n",
    ").to(device)"
   ]
  },
  {
   "cell_type": "code",
   "execution_count": 21,
   "metadata": {},
   "outputs": [
    {
     "name": "stdout",
     "output_type": "stream",
     "text": [
      "Epoch: 1  | time in 0 minutes, 5 seconds\n",
      "\tLoss: 0.0129(train)\t|\tAcc: 62.9%(train)\n",
      "\tLoss: 0.0120(valid)\t|\tAcc: 65.5%(valid)\n",
      "Epoch: 2  | time in 0 minutes, 5 seconds\n",
      "\tLoss: 0.0108(train)\t|\tAcc: 72.3%(train)\n",
      "\tLoss: 0.0117(valid)\t|\tAcc: 69.5%(valid)\n",
      "Epoch: 3  | time in 0 minutes, 4 seconds\n",
      "\tLoss: 0.0098(train)\t|\tAcc: 75.9%(train)\n",
      "\tLoss: 0.0099(valid)\t|\tAcc: 75.4%(valid)\n",
      "Epoch: 4  | time in 0 minutes, 5 seconds\n",
      "\tLoss: 0.0090(train)\t|\tAcc: 78.7%(train)\n",
      "\tLoss: 0.0106(valid)\t|\tAcc: 73.6%(valid)\n",
      "Epoch: 5  | time in 0 minutes, 5 seconds\n",
      "\tLoss: 0.0084(train)\t|\tAcc: 80.4%(train)\n",
      "\tLoss: 0.0122(valid)\t|\tAcc: 70.9%(valid)\n",
      "Epoch: 6  | time in 0 minutes, 5 seconds\n",
      "\tLoss: 0.0078(train)\t|\tAcc: 82.1%(train)\n",
      "\tLoss: 0.0096(valid)\t|\tAcc: 76.2%(valid)\n",
      "Epoch: 7  | time in 0 minutes, 5 seconds\n",
      "\tLoss: 0.0074(train)\t|\tAcc: 83.1%(train)\n",
      "\tLoss: 0.0094(valid)\t|\tAcc: 77.4%(valid)\n",
      "Epoch: 8  | time in 0 minutes, 5 seconds\n",
      "\tLoss: 0.0068(train)\t|\tAcc: 85.0%(train)\n",
      "\tLoss: 0.0127(valid)\t|\tAcc: 69.3%(valid)\n",
      "Epoch: 9  | time in 0 minutes, 5 seconds\n",
      "\tLoss: 0.0067(train)\t|\tAcc: 85.0%(train)\n",
      "\tLoss: 0.0098(valid)\t|\tAcc: 76.6%(valid)\n",
      "Epoch: 10  | time in 0 minutes, 5 seconds\n",
      "\tLoss: 0.0061(train)\t|\tAcc: 86.8%(train)\n",
      "\tLoss: 0.0107(valid)\t|\tAcc: 75.6%(valid)\n"
     ]
    }
   ],
   "source": [
    "import time\n",
    "from torch.utils.data.dataset import random_split\n",
    "\n",
    "N_EPOCHS = 10\n",
    "min_valid_loss = float('inf')\n",
    "\n",
    "criterion = torch.nn.CrossEntropyLoss().to(device)\n",
    "optimizer = torch.optim.SGD(model.parameters(), lr=0.1)\n",
    "\n",
    "train_len = int(len(prepared_data) * 0.95)\n",
    "train_data, validation_data = \\\n",
    "    random_split(prepared_data, [train_len, len(prepared_data) - train_len])\n",
    "\n",
    "for epoch in range(N_EPOCHS):\n",
    "\n",
    "    start_time = time.time()\n",
    "    train_loss, train_acc = train(train_data, generate_batch_with_masking, True)\n",
    "    valid_loss, valid_acc = test(validation_data, generate_batch_with_masking)\n",
    "\n",
    "    secs = int(time.time() - start_time)\n",
    "    mins = secs / 60\n",
    "    secs = secs % 60\n",
    "\n",
    "    print('Epoch: %d' %(epoch + 1), \" | time in %d minutes, %d seconds\" %(mins, secs))\n",
    "    print(f'\\tLoss: {train_loss:.4f}(train)\\t|\\tAcc: {train_acc * 100:.1f}%(train)')\n",
    "    print(f'\\tLoss: {valid_loss:.4f}(valid)\\t|\\tAcc: {valid_acc * 100:.1f}%(valid)')"
   ]
  },
  {
   "cell_type": "code",
   "execution_count": null,
   "metadata": {},
   "outputs": [],
   "source": []
  }
 ],
 "metadata": {
  "kernelspec": {
   "display_name": "nlp-course",
   "language": "python",
   "name": "nlp-course"
  },
  "language_info": {
   "codemirror_mode": {
    "name": "ipython",
    "version": 3
   },
   "file_extension": ".py",
   "mimetype": "text/x-python",
   "name": "python",
   "nbconvert_exporter": "python",
   "pygments_lexer": "ipython3",
   "version": "3.6.10"
  }
 },
 "nbformat": 4,
 "nbformat_minor": 4
}
