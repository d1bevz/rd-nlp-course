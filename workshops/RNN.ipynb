{
 "cells": [
  {
   "cell_type": "code",
   "execution_count": null,
   "metadata": {},
   "outputs": [],
   "source": [
    "import random\n",
    "import numpy\n",
    "\n",
    "def set_seed(seed: int, n_gpu: int):\n",
    "    random.seed(seed)\n",
    "    numpy.random.seed(seed)\n",
    "    torch.manual_seed(seed)\n",
    "    if n_gpu > 0:\n",
    "        torch.cuda.manual_seed_all(seed)"
   ]
  },
  {
   "cell_type": "code",
   "execution_count": null,
   "metadata": {},
   "outputs": [],
   "source": [
    "reviews_train = []\n",
    "for line in open(\"../data/imdb/full_train.txt\", \"r\"):\n",
    "    reviews_train.append(line.strip())\n",
    "    \n",
    "reviews_test = []\n",
    "for line in open(\"../data/imdb/full_test.txt\", \"r\"):\n",
    "    reviews_test.append(line.strip())"
   ]
  },
  {
   "cell_type": "code",
   "execution_count": null,
   "metadata": {},
   "outputs": [],
   "source": [
    "train_target = [1 if i < 12500 else 0 for i in range(25000)]\n",
    "test_target = [1 if i < 12500 else 0 for i in range(25000)]"
   ]
  },
  {
   "cell_type": "code",
   "execution_count": null,
   "metadata": {},
   "outputs": [],
   "source": [
    "from gensim.models import KeyedVectors\n",
    "w2v_model = KeyedVectors.load_word2vec_format(\"../models/GoogleNews-vectors-negative300.bin\", binary=True, limit=300000)"
   ]
  },
  {
   "cell_type": "code",
   "execution_count": null,
   "metadata": {},
   "outputs": [],
   "source": [
    "UNKNOWN_TOKEN = \"UNK\"\n",
    "PAD_TOKEN = \"PAD\"\n",
    "\n",
    "index_to_token = [PAD_TOKEN, UNKNOWN_TOKEN] + w2v_model.index2word\n",
    "token_to_index = {token: index + 2 for index, token in enumerate(w2v_model.index2word)}\n",
    "token_to_index[PAD_TOKEN] = 0\n",
    "token_to_index[UNKNOWN_TOKEN] = 1"
   ]
  },
  {
   "cell_type": "code",
   "execution_count": null,
   "metadata": {},
   "outputs": [],
   "source": [
    "import torch\n",
    "token_weights = torch.zeros((len(index_to_token), w2v_model.vector_size))\n",
    "token_weights[2:, :] = torch.tensor(w2v_model.vectors)"
   ]
  },
  {
   "cell_type": "code",
   "execution_count": null,
   "metadata": {},
   "outputs": [],
   "source": [
    "BATCH_SIZE = 20\n",
    "MAX_INPUT_LENGTH = 500"
   ]
  },
  {
   "cell_type": "code",
   "execution_count": null,
   "metadata": {},
   "outputs": [],
   "source": [
    "def generate_batch(input_data, max_length = MAX_INPUT_LENGTH):\n",
    "    \n",
    "    texts = torch.tensor([padding(sample[\"text\"], max_length) for sample in input_data], dtype=torch.long)\n",
    "    labels = torch.tensor([sample[\"label\"] for sample in input_data], dtype=torch.long)\n",
    "    return texts, torch.tensor([]), labels\n",
    "\n",
    "def padding(text_tokens, max_length, padding_token=1):\n",
    "    if len(text_tokens) >= max_length:\n",
    "        return text_tokens[:max_length]\n",
    "    return text_tokens + [padding_token]*(max_length - len(text_tokens))"
   ]
  },
  {
   "cell_type": "code",
   "execution_count": null,
   "metadata": {},
   "outputs": [],
   "source": [
    "from nltk import word_tokenize"
   ]
  },
  {
   "cell_type": "code",
   "execution_count": null,
   "metadata": {},
   "outputs": [],
   "source": [
    "prepared_data = []\n",
    "\n",
    "for label, text in zip(train_target, reviews_train):\n",
    "    text_tokens = [token_to_index.get(token.lower(), token_to_index[UNKNOWN_TOKEN]) for token in word_tokenize(text)]\n",
    "    prepared_data.append({\"label\": label, \"text\": text_tokens, \"sequence_length\": len(text_tokens)})"
   ]
  },
  {
   "cell_type": "code",
   "execution_count": null,
   "metadata": {
    "pycharm": {
     "name": "#%%\n"
    }
   },
   "outputs": [],
   "source": [
    "from torch.utils.data import DataLoader\n",
    "\n",
    "def train(input_data, collate_fn, shuffle=True):\n",
    "\n",
    "    # Train the model\n",
    "    train_loss = 0\n",
    "    train_acc = 0\n",
    "    data = DataLoader(input_data, batch_size=BATCH_SIZE, shuffle=shuffle, collate_fn=collate_fn)\n",
    "    for i, (text, sequence_length, label) in enumerate(data): # 3\n",
    "        optimizer.zero_grad()\n",
    "        text, sequence_length, label = text.to(device), sequence_length.to(device), label.to(device)\n",
    "        output = model(text, sequence_length)\n",
    "        loss = criterion(output, label)\n",
    "        train_loss += loss.item()\n",
    "        loss.backward()\n",
    "        optimizer.step()\n",
    "        train_acc += (output.argmax(1) == label).sum().item()\n",
    "\n",
    "    return train_loss / len(input_data), train_acc / len(input_data)\n",
    "\n",
    "def test(input_data, collate_fn):\n",
    "    test_loss = 0\n",
    "    acc = 0\n",
    "    data = DataLoader(input_data, batch_size=BATCH_SIZE, collate_fn=collate_fn)\n",
    "    for i, (text, sequence_length, label) in enumerate(data):\n",
    "        text, sequence_length, label = text.to(device),  sequence_length.to(device), label.to(device)\n",
    "        with torch.no_grad():\n",
    "            output = model(text, sequence_length)\n",
    "            loss = criterion(output, label)\n",
    "            test_loss += loss.item()\n",
    "            acc += (output.argmax(1) == label).sum().item()\n",
    "\n",
    "    return test_loss / len(input_data), acc / len(input_data)"
   ]
  },
  {
   "cell_type": "markdown",
   "metadata": {
    "pycharm": {
     "name": "#%% md\n"
    }
   },
   "source": [
    "## Simple RNN"
   ]
  },
  {
   "cell_type": "code",
   "execution_count": null,
   "metadata": {},
   "outputs": [],
   "source": [
    "RNN_HIDDEN_SIZE = 100\n",
    "IS_BIDIRECTIONAL = False\n",
    "NUM_LAYERS = 1"
   ]
  },
  {
   "cell_type": "code",
   "execution_count": null,
   "metadata": {},
   "outputs": [],
   "source": [
    "import torch\n",
    "import torch.nn as nn\n",
    "\n",
    "class SentimentClassificationSimpleRNNModel(nn.Module):\n",
    "    def __init__(self, embedding_weights, num_class, hidden_size, is_bidirectional, num_layers):\n",
    "        super().__init__()\n",
    "        self.embedding = nn.Embedding.from_pretrained(embedding_weights)\n",
    "        self.embedding.weight.requires_grad = False\n",
    "        embedding_dim = embedding_weights.size()[1]\n",
    "        self.rnn = nn.RNN(input_size=embedding_dim, hidden_size=hidden_size, num_layers=num_layers, bidirectional=is_bidirectional)\n",
    "        self.fc = nn.Linear(hidden_size*(1 + int(is_bidirectional)), num_class)\n",
    "        self.init_weights()\n",
    "\n",
    "    def init_weights(self):\n",
    "        init_range = 0.5\n",
    "        self.fc.weight.data.uniform_(-init_range, init_range)\n",
    "        self.fc.bias.data.zero_()\n",
    "\n",
    "    def forward(self, text, sequence_length=None):\n",
    "        embedded = self.embedding(text)\n",
    "        output, _ = self.rnn(embedded)\n",
    "        pooled_output, _ = output.max(dim=1)\n",
    "        return self.fc(pooled_output)"
   ]
  },
  {
   "cell_type": "code",
   "execution_count": null,
   "metadata": {},
   "outputs": [],
   "source": [
    "set_seed(42, 1)"
   ]
  },
  {
   "cell_type": "code",
   "execution_count": null,
   "metadata": {},
   "outputs": [],
   "source": [
    "# device = torch.device(\"cuda:0\" if torch.cuda.is_available() else \"cpu\")\n",
    "device = torch.device(\"cpu\")\n",
    "model = SentimentClassificationSimpleRNNModel(\n",
    "    embedding_weights=token_weights, \n",
    "    num_class=len(set(train_target)), \n",
    "    hidden_size=RNN_HIDDEN_SIZE,\n",
    "    is_bidirectional=IS_BIDIRECTIONAL,\n",
    "    num_layers=NUM_LAYERS\n",
    ").to(device)"
   ]
  },
  {
   "cell_type": "code",
   "execution_count": null,
   "metadata": {
    "pycharm": {
     "name": "#%%\n"
    }
   },
   "outputs": [],
   "source": [
    "import time\n",
    "from torch.utils.data.dataset import random_split\n",
    "\n",
    "N_EPOCHS = 2\n",
    "min_valid_loss = float('inf')\n",
    "\n",
    "criterion = torch.nn.CrossEntropyLoss().to(device)\n",
    "optimizer = torch.optim.SGD(model.parameters(), lr=0.1)\n",
    "\n",
    "train_len = int(len(prepared_data) * 0.95)\n",
    "train_data, validation_data = \\\n",
    "    random_split(prepared_data, [train_len, len(prepared_data) - train_len])\n",
    "\n",
    "for epoch in range(N_EPOCHS):\n",
    "\n",
    "    start_time = time.time()\n",
    "    train_loss, train_acc = train(train_data, generate_batch)\n",
    "    valid_loss, valid_acc = test(validation_data, generate_batch)\n",
    "\n",
    "    secs = int(time.time() - start_time)\n",
    "\n",
    "    print(f\"Epoch: {(epoch + 1)} | time in {secs} seconds\")\n",
    "    print(f\"Loss: {train_loss:.4f}(train)\\t|\\tAcc: {train_acc * 100:.1f}%(train)\")\n",
    "    print(f\"Loss: {valid_loss:.4f}(valid)\\t|\\tAcc: {valid_acc * 100:.1f}%(valid)\")"
   ]
  },
  {
   "cell_type": "markdown",
   "metadata": {
    "pycharm": {
     "name": "#%% md\n"
    }
   },
   "source": [
    "## Masked Padding\n",
    "\n",
    "У нас есть два предложения: \"I like watching movies\" and \"I don't like watching movies\". После токенизации мы получим: `[\"I\", \"like\", \"watching\", \"movies\"]` (4 токена) и `[\"I\", \"don't\", \"like\", \"watching\", \"movies\"]` (5 токенов).\n",
    "\n",
    "Чтобы сформировать батч, оба предложения должны иметь одинаковое количество токенов, поэтому мы добавляем к первому предложению «padding токен» и получаем\n",
    "`[\"I\", \"like\", \"watching\", \"movies\", \"PAD\"]` (5 токенов) и `[\"I\", \"don't\", \"like\", \"watching\", \"movies\"]` (5 токенов)\n",
    "\n",
    "Теперь наша модель будет знать, что мы использовали padding для первого предложения.\n",
    "Должна ли наша модель знать об этом?\n",
    "\n",
    "Мы можем маскировать токены, и наша модель их проигнорирует. Использовать `torch.nn.utils.rnn.pack_padded_sequence`"
   ]
  },
  {
   "cell_type": "code",
   "execution_count": null,
   "metadata": {},
   "outputs": [],
   "source": [
    "import torch\n",
    "import torch.nn as nn\n",
    "from torch.nn.utils.rnn import pack_padded_sequence, pad_packed_sequence\n",
    "\n",
    "class SentimentClassificationMaskedRNNModel(nn.Module):\n",
    "    def __init__(self, embedding_weights, num_class, hidden_size, is_bidirectional, num_layers):\n",
    "        super().__init__()\n",
    "        self.embedding = nn.Embedding.from_pretrained(embedding_weights)\n",
    "        self.embedding.weight.requires_grad = False\n",
    "        embedding_dim = embedding_weights.size()[1]\n",
    "        self.rnn = nn.RNN(input_size=embedding_dim, hidden_size=hidden_size, num_layers=num_layers, bidirectional=is_bidirectional)\n",
    "        self.fc = nn.Linear(hidden_size*(1 + int(is_bidirectional)), num_class)\n",
    "        self.init_weights()\n",
    "\n",
    "    def init_weights(self):\n",
    "        init_range = 0.5\n",
    "        self.fc.weight.data.uniform_(-init_range, init_range)\n",
    "        self.fc.bias.data.zero_()\n",
    "        \n",
    "    def forward(self, text, sequence_length):\n",
    "        embedded = self.embedding(text)\n",
    "        packed_output, _ = self.rnn(pack_padded_sequence(embedded, sequence_length, batch_first=True))\n",
    "        output, _ = pad_packed_sequence(packed_output)\n",
    "        pooled_output, _ = output.max(dim=0)\n",
    "        return self.fc(pooled_output)"
   ]
  },
  {
   "cell_type": "code",
   "execution_count": null,
   "metadata": {},
   "outputs": [],
   "source": [
    "from typing import Dict\n",
    "\n",
    "def padding(text_tokens, max_length, padding_token=token_to_index[PAD_TOKEN]):\n",
    "    if len(text_tokens) >= max_length:\n",
    "        return text_tokens[:max_length]\n",
    "    return text_tokens + [padding_token]*(max_length - len(text_tokens))\n",
    "\n",
    "def generate_batch_with_masking(input_data: Dict[str, str], max_length = MAX_INPUT_LENGTH):\n",
    "    # return (text, sequence_length), labels\n",
    "    max_batch_sequence_length = max(sequence[\"sequence_length\"] for sequence in input_data)\n",
    "    batch_sequence_length = min(max_length, max_batch_sequence_length)\n",
    "    prepared_data = []\n",
    "    sequence_length = []\n",
    "    for sample in input_data:\n",
    "        prepared_data.append(padding(sample[\"text\"], batch_sequence_length))\n",
    "        sequence_length.append(min(sample[\"sequence_length\"], batch_sequence_length))\n",
    "        \n",
    "    prepared_data = torch.tensor(prepared_data, dtype=torch.long)\n",
    "    sequence_length = torch.tensor(sequence_length, dtype=torch.long)\n",
    "    sequence_length, perm_idx = sequence_length.sort(0, descending=True)\n",
    "    prepared_data = prepared_data[perm_idx]\n",
    "    \n",
    "    labels = torch.tensor([sample[\"label\"] for sample in input_data], dtype=torch.long)[perm_idx]\n",
    "    return prepared_data, sequence_length, labels"
   ]
  },
  {
   "cell_type": "code",
   "execution_count": null,
   "metadata": {},
   "outputs": [],
   "source": [
    "generate_batch_with_masking(\n",
    "    [\n",
    "        {\"text\": [1, 2, 3, 4], \"label\": 1, \"sequence_length\": 4}, \n",
    "        {\"text\": [1, 5, 2, 3, 4], \"label\": 0, \"sequence_length\": 5}, \n",
    "    ]\n",
    ")"
   ]
  },
  {
   "cell_type": "code",
   "execution_count": null,
   "metadata": {},
   "outputs": [],
   "source": [
    "set_seed(42, 1)"
   ]
  },
  {
   "cell_type": "code",
   "execution_count": null,
   "metadata": {},
   "outputs": [],
   "source": [
    "# device = torch.device(\"cuda:0\" if torch.cuda.is_available() else \"cpu\")\n",
    "device = torch.device(\"cpu\")\n",
    "model = SentimentClassificationMaskedRNNModel(\n",
    "    embedding_weights=token_weights,\n",
    "    num_class=len(set(train_target)), \n",
    "    hidden_size=RNN_HIDDEN_SIZE,\n",
    "    is_bidirectional=IS_BIDIRECTIONAL,\n",
    "    num_layers=NUM_LAYERS\n",
    ").to(device)"
   ]
  },
  {
   "cell_type": "code",
   "execution_count": null,
   "outputs": [],
   "source": [
    "import time\n",
    "from torch.utils.data.dataset import random_split\n",
    "\n",
    "N_EPOCHS = 2\n",
    "min_valid_loss = float('inf')\n",
    "\n",
    "criterion = torch.nn.CrossEntropyLoss().to(device)\n",
    "optimizer = torch.optim.SGD(model.parameters(), lr=0.1)\n",
    "\n",
    "train_len = int(len(prepared_data) * 0.95)\n",
    "train_data, validation_data = \\\n",
    "    random_split(prepared_data, [train_len, len(prepared_data) - train_len])\n",
    "sorted_train_data = sorted(train_data, key=lambda x: x[\"sequence_length\"], reverse=True)\n",
    "sorted_val_data = sorted(validation_data, key=lambda x: x[\"sequence_length\"], reverse=True)\n",
    "\n",
    "for epoch in range(N_EPOCHS):\n",
    "\n",
    "    start_time = time.time()\n",
    "\n",
    "    train_loss, train_acc = train(sorted_train_data, generate_batch_with_masking, False)\n",
    "    valid_loss, valid_acc = test(sorted_val_data, generate_batch_with_masking)\n",
    "\n",
    "    secs = int(time.time() - start_time)\n",
    "\n",
    "    print(f\"Epoch: {(epoch + 1)} | time in {secs} seconds\")\n",
    "    print(f\"Loss: {train_loss:.4f}(train)\\t|\\tAcc: {train_acc * 100:.1f}%(train)\")\n",
    "    print(f\"Loss: {valid_loss:.4f}(valid)\\t|\\tAcc: {valid_acc * 100:.1f}%(valid)\")"
   ],
   "metadata": {
    "collapsed": false,
    "pycharm": {
     "name": "#%%\n"
    }
   }
  },
  {
   "cell_type": "code",
   "execution_count": null,
   "metadata": {},
   "outputs": [],
   "source": []
  },
  {
   "cell_type": "code",
   "execution_count": null,
   "metadata": {},
   "outputs": [],
   "source": []
  }
 ],
 "metadata": {
  "kernelspec": {
   "display_name": "rd-nlp-course",
   "language": "python",
   "name": "rd-nlp-course"
  },
  "language_info": {
   "codemirror_mode": {
    "name": "ipython",
    "version": 3
   },
   "file_extension": ".py",
   "mimetype": "text/x-python",
   "name": "python",
   "nbconvert_exporter": "python",
   "pygments_lexer": "ipython3",
   "version": "3.6.10"
  },
  "pycharm": {
   "stem_cell": {
    "cell_type": "raw",
    "source": [],
    "metadata": {
     "collapsed": false
    }
   }
  }
 },
 "nbformat": 4,
 "nbformat_minor": 4
}