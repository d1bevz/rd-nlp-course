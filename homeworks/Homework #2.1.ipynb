{
 "cells": [
  {
   "cell_type": "code",
   "execution_count": 1,
   "metadata": {},
   "outputs": [],
   "source": [
    "from gensim.models import KeyedVectors"
   ]
  },
  {
   "cell_type": "code",
   "execution_count": 5,
   "metadata": {},
   "outputs": [],
   "source": [
    "model = KeyedVectors.load_word2vec_format(\n",
    "    \"/Users/dbevz/Documents/nlp_course/rd-nlp-course/data/GoogleNews-vectors-negative300.bin\", \n",
    "    binary=True, \n",
    "    limit=100000\n",
    ")"
   ]
  },
  {
   "cell_type": "markdown",
   "metadata": {},
   "source": [
    "## Какие ближайшие слова соответствуют слову \"data\"? "
   ]
  },
  {
   "cell_type": "code",
   "execution_count": 11,
   "metadata": {},
   "outputs": [
    {
     "data": {
      "text/plain": [
       "[('Data', 0.7262316346168518),\n",
       " ('datasets', 0.603030264377594),\n",
       " ('dataset', 0.5796631574630737),\n",
       " ('databases', 0.5450120568275452),\n",
       " ('statistics', 0.537885844707489),\n",
       " ('information', 0.5368290543556213),\n",
       " ('database', 0.5325667262077332),\n",
       " ('Indicators', 0.46787744760513306),\n",
       " ('analysis', 0.46195128560066223),\n",
       " ('metrics', 0.455242395401001)]"
      ]
     },
     "execution_count": 11,
     "metadata": {},
     "output_type": "execute_result"
    }
   ],
   "source": [
    "model.similar_by_word('data')"
   ]
  },
  {
   "cell_type": "markdown",
   "metadata": {},
   "source": [
    "## Как получить слово \"football\" из \"basketball\", используя арифметические операции с векторами слов"
   ]
  },
  {
   "cell_type": "code",
   "execution_count": 59,
   "metadata": {},
   "outputs": [
    {
     "data": {
      "text/plain": [
       "[('football', 0.7081430554389954),\n",
       " ('Soccer', 0.6237591505050659),\n",
       " ('hockey', 0.5853738784790039),\n",
       " ('baseball', 0.5689212083816528),\n",
       " ('sports', 0.5673127770423889),\n",
       " ('lacrosse', 0.5444103479385376),\n",
       " ('hoops', 0.5326753854751587),\n",
       " ('Basketball', 0.514875590801239),\n",
       " ('athletic', 0.48900270462036133),\n",
       " ('NBA', 0.4841150939464569)]"
      ]
     },
     "execution_count": 59,
     "metadata": {},
     "output_type": "execute_result"
    }
   ],
   "source": [
    "model.most_similar(positive=['basketball', 'soccer'], negative=['volleyball'])"
   ]
  },
  {
   "cell_type": "markdown",
   "metadata": {},
   "source": [
    "## Сделайте визуализацию первых 500 токенов любой модели векторов слов"
   ]
  },
  {
   "cell_type": "markdown",
   "metadata": {},
   "source": [
    "https://rusvectores.org/en/models/\n",
    "\n",
    "Instruction: https://github.com/akutuzov/webvectors/blob/master/preprocessing/rusvectores_tutorial.ipynb\n",
    "Model: geowac_tokens_none_fasttextskipgram_300_5_2020"
   ]
  },
  {
   "cell_type": "markdown",
   "metadata": {},
   "source": [
    "### Load model"
   ]
  },
  {
   "cell_type": "code",
   "execution_count": 96,
   "metadata": {},
   "outputs": [
    {
     "data": {
      "text/plain": [
       "(347295, 300)"
      ]
     },
     "execution_count": 96,
     "metadata": {},
     "output_type": "execute_result"
    }
   ],
   "source": [
    "rus_model = KeyedVectors.load(\n",
    "    '/Users/dbevz/Documents/nlp_course/rd-nlp-course/data/214/model.model'\n",
    ")\n",
    "rus_model.vectors.shape"
   ]
  },
  {
   "cell_type": "markdown",
   "metadata": {},
   "source": [
    "### Transform data with TSNE - dimensionality reduction"
   ]
  },
  {
   "cell_type": "code",
   "execution_count": 193,
   "metadata": {},
   "outputs": [],
   "source": [
    "from MulticoreTSNE import MulticoreTSNE as TSNE\n",
    "tsne = TSNE(n_jobs=10, perplexity=30)\n",
    "transformed_vectors = tsne.fit_transform(rus_model.vectors[:10000])"
   ]
  },
  {
   "cell_type": "markdown",
   "metadata": {},
   "source": [
    "### Find simple clusters with DBSCAN"
   ]
  },
  {
   "cell_type": "code",
   "execution_count": 221,
   "metadata": {},
   "outputs": [
    {
     "data": {
      "text/plain": [
       "array([ 0,  0,  0,  0,  0,  0,  0,  0,  0,  0,  0,  1,  0,  0,  0,  0,  0,\n",
       "        0,  0,  0,  0,  0,  0,  0,  0,  0,  2,  0,  0,  0,  2,  0,  2,  3,\n",
       "        0, -1,  0,  0,  0,  0,  0,  2, -1,  4,  0,  5, -1, -1,  0,  0,  0,\n",
       "        0,  0,  0,  0,  0,  0,  6,  0,  0,  5,  0,  0,  0,  5,  0,  0,  0,\n",
       "        7,  0,  8,  0,  0,  0,  0,  0,  9,  0,  0,  5, -1,  0, 10,  1,  0,\n",
       "        0, 11,  0,  0,  0,  5,  0,  1,  7,  0,  8, -1,  0,  0,  0,  0,  2,\n",
       "        5,  2,  0, 12,  0,  0,  0,  0, -1,  0,  0,  0,  0,  0, -1, 13, -1,\n",
       "       -1, -1, -1, -1,  6,  0, -1, -1,  4,  0,  0,  4, -1,  0,  0,  7, 10,\n",
       "       -1, -1, 11, -1, -1,  0, 14, 10, -1, -1,  0, -1, 11,  2,  0,  0,  0,\n",
       "        2, 10,  0,  0,  0,  0,  0,  0,  0,  0,  0, -1, 13, 13,  0, -1, -1,\n",
       "       -1,  0,  3,  0,  0,  0, -1, -1,  0,  0,  0, -1, -1, -1, 14,  6,  2,\n",
       "        8,  2,  0,  0,  0, -1,  0, 10,  0,  0,  0, 11,  0,  1, -1, -1,  0,\n",
       "       10,  0,  0,  0,  0,  0, -1, -1,  7,  0, -1,  0, -1,  0, -1, -1, 10,\n",
       "       -1,  0, 13,  8,  0,  2,  1,  7,  0, -1, 10, 10,  0,  0, -1,  0, 11,\n",
       "        6,  0,  0,  8,  0, -1, -1,  0,  0, 10, 10, 14,  0,  9,  4, -1,  6,\n",
       "       11,  1, 11,  0,  0, -1,  0, -1, -1,  0, 11, -1,  0, -1,  0, -1, 13,\n",
       "        2,  0,  0,  0,  0,  0,  1,  0,  0,  1,  6,  0,  0,  6,  0,  6,  0,\n",
       "       -1, 13, -1, -1, 10,  6,  8,  1,  0,  9, 10,  0, 12, 11, 10, 10,  0,\n",
       "       14, -1,  0, -1, -1,  0, -1,  1,  0, 11,  0, -1,  4, -1,  9, -1, -1,\n",
       "       -1,  0, -1,  0, -1,  0, -1, -1, -1,  7,  0, 13, 10, -1, 10, -1, -1,\n",
       "       10,  0, -1,  6,  0,  7, -1,  6, -1, -1, -1, -1,  0,  8,  2,  0,  0,\n",
       "        7,  6,  0, -1,  8, -1, 13, -1,  0,  0,  1, 13, -1,  0, -1, 13,  0,\n",
       "        0, -1, -1, -1,  4,  9, 12, -1, -1, -1,  0,  0,  6,  0, -1,  0,  0,\n",
       "        0,  8, 11,  0,  0, -1,  2,  8, -1,  0, -1, -1, -1, -1, -1,  6, -1,\n",
       "       -1, -1,  5, -1,  0, -1,  1, -1,  0,  1, -1, -1,  0, -1,  0,  0, -1,\n",
       "        0,  0, -1,  0, -1, 11,  0, 13,  3,  4,  0,  8,  0, -1, -1,  3,  9,\n",
       "       12,  1,  0,  1,  0,  0, -1, -1, -1,  0,  6, 11,  0,  0,  0,  0, 11,\n",
       "       14,  5,  2, 15,  3, -1, -1, -1, -1, -1, -1, 15, -1, -1, 15, -1, -1,\n",
       "       -1, 11, -1,  0, 12, -1, 14, -1, 15, -1,  1, 15, -1, -1, 13, -1, -1,\n",
       "       -1, -1, -1,  5, -1,  8,  0])"
      ]
     },
     "execution_count": 221,
     "metadata": {},
     "output_type": "execute_result"
    }
   ],
   "source": [
    "from sklearn.cluster import DBSCAN\n",
    "clustering = DBSCAN(eps=3, leaf_size=10, n_jobs=-1)\n",
    "grouped_vectors = clustering.fit_predict(transformed_vectors[:500])\n",
    "grouped_vectors"
   ]
  },
  {
   "cell_type": "markdown",
   "metadata": {},
   "source": [
    "### Visualization"
   ]
  },
  {
   "cell_type": "code",
   "execution_count": 100,
   "metadata": {},
   "outputs": [],
   "source": [
    "import plotly.express as px"
   ]
  },
  {
   "cell_type": "code",
   "execution_count": 222,
   "metadata": {},
   "outputs": [
    {
     "data": {
      "text/html": [
       "<iframe\n",
       "    scrolling=\"no\"\n",
       "    width=\"1700px\"\n",
       "    height=\"820\"\n",
       "    src=\"iframe_figures/figure_222.html\"\n",
       "    frameborder=\"0\"\n",
       "    allowfullscreen\n",
       "></iframe>\n"
      ]
     },
     "metadata": {},
     "output_type": "display_data"
    }
   ],
   "source": [
    "import pandas as pd\n",
    "embeddings = pd.DataFrame(\n",
    "    {\n",
    "        'x': transformed_vectors[:500, 0],\n",
    "        'y': transformed_vectors[:500, 1],\n",
    "        'name': rus_model.index2word[:500],\n",
    "        'group': grouped_vectors[:500].astype(str)\n",
    "    }\n",
    ")\n",
    "\n",
    "fig = px.scatter(\n",
    "    embeddings.sort_values('group'),\n",
    "    x='x',\n",
    "    y='y',\n",
    "    hover_name='name',\n",
    "    color='group',\n",
    "    template='plotly_dark',\n",
    "    title='Model geowac_tokens_none_fasttextskipgram_300_5_2020 (first 500 tokens)',\n",
    "    width=1680,\n",
    "    height=800\n",
    ")\n",
    "fig.show(renderer='iframe')"
   ]
  },
  {
   "cell_type": "code",
   "execution_count": 107,
   "metadata": {},
   "outputs": [
    {
     "data": {
      "text/html": [
       "<div>\n",
       "<style scoped>\n",
       "    .dataframe tbody tr th:only-of-type {\n",
       "        vertical-align: middle;\n",
       "    }\n",
       "\n",
       "    .dataframe tbody tr th {\n",
       "        vertical-align: top;\n",
       "    }\n",
       "\n",
       "    .dataframe thead th {\n",
       "        text-align: right;\n",
       "    }\n",
       "</style>\n",
       "<table border=\"1\" class=\"dataframe\">\n",
       "  <thead>\n",
       "    <tr style=\"text-align: right;\">\n",
       "      <th></th>\n",
       "      <th>x</th>\n",
       "      <th>y</th>\n",
       "      <th>name</th>\n",
       "    </tr>\n",
       "  </thead>\n",
       "  <tbody>\n",
       "    <tr>\n",
       "      <th>0</th>\n",
       "      <td>-5.250168</td>\n",
       "      <td>-0.946701</td>\n",
       "      <td>в</td>\n",
       "    </tr>\n",
       "    <tr>\n",
       "      <th>1</th>\n",
       "      <td>-4.440208</td>\n",
       "      <td>-1.411694</td>\n",
       "      <td>и</td>\n",
       "    </tr>\n",
       "    <tr>\n",
       "      <th>2</th>\n",
       "      <td>-5.069872</td>\n",
       "      <td>3.496073</td>\n",
       "      <td>на</td>\n",
       "    </tr>\n",
       "    <tr>\n",
       "      <th>3</th>\n",
       "      <td>11.197386</td>\n",
       "      <td>-12.363785</td>\n",
       "      <td>не</td>\n",
       "    </tr>\n",
       "    <tr>\n",
       "      <th>4</th>\n",
       "      <td>-7.292862</td>\n",
       "      <td>-2.427634</td>\n",
       "      <td>с</td>\n",
       "    </tr>\n",
       "    <tr>\n",
       "      <th>...</th>\n",
       "      <td>...</td>\n",
       "      <td>...</td>\n",
       "      <td>...</td>\n",
       "    </tr>\n",
       "    <tr>\n",
       "      <th>495</th>\n",
       "      <td>-8.973996</td>\n",
       "      <td>-0.489450</td>\n",
       "      <td>группы</td>\n",
       "    </tr>\n",
       "    <tr>\n",
       "      <th>496</th>\n",
       "      <td>20.983562</td>\n",
       "      <td>-19.014809</td>\n",
       "      <td>стать</td>\n",
       "    </tr>\n",
       "    <tr>\n",
       "      <th>497</th>\n",
       "      <td>-8.000984</td>\n",
       "      <td>10.440872</td>\n",
       "      <td>материал</td>\n",
       "    </tr>\n",
       "    <tr>\n",
       "      <th>498</th>\n",
       "      <td>-3.640575</td>\n",
       "      <td>-22.959097</td>\n",
       "      <td>обычно</td>\n",
       "    </tr>\n",
       "    <tr>\n",
       "      <th>499</th>\n",
       "      <td>6.077344</td>\n",
       "      <td>-6.684883</td>\n",
       "      <td>давно</td>\n",
       "    </tr>\n",
       "  </tbody>\n",
       "</table>\n",
       "<p>500 rows × 3 columns</p>\n",
       "</div>"
      ],
      "text/plain": [
       "             x          y      name\n",
       "0    -5.250168  -0.946701         в\n",
       "1    -4.440208  -1.411694         и\n",
       "2    -5.069872   3.496073        на\n",
       "3    11.197386 -12.363785        не\n",
       "4    -7.292862  -2.427634         с\n",
       "..         ...        ...       ...\n",
       "495  -8.973996  -0.489450    группы\n",
       "496  20.983562 -19.014809     стать\n",
       "497  -8.000984  10.440872  материал\n",
       "498  -3.640575 -22.959097    обычно\n",
       "499   6.077344  -6.684883     давно\n",
       "\n",
       "[500 rows x 3 columns]"
      ]
     },
     "execution_count": 107,
     "metadata": {},
     "output_type": "execute_result"
    }
   ],
   "source": []
  }
 ],
 "metadata": {
  "kernelspec": {
   "display_name": "Python 3",
   "language": "python",
   "name": "python3"
  },
  "language_info": {
   "codemirror_mode": {
    "name": "ipython",
    "version": 3
   },
   "file_extension": ".py",
   "mimetype": "text/x-python",
   "name": "python",
   "nbconvert_exporter": "python",
   "pygments_lexer": "ipython3",
   "version": "3.7.0"
  }
 },
 "nbformat": 4,
 "nbformat_minor": 4
}
